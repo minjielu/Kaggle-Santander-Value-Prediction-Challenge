{
 "cells": [
  {
   "cell_type": "markdown",
   "metadata": {},
   "source": [
    "__This file contains codes generating new train and test dataset by removing leaked rows from train set or adding leaked rows from test set to train set. It also contains codes that combine predictions by machine learning models and predictions by leak filtered in different ways. So there are no relations between different sections.__"
   ]
  },
  {
   "cell_type": "code",
   "execution_count": 1,
   "metadata": {},
   "outputs": [],
   "source": [
    "import pandas as pd\n",
    "import numpy as np\n",
    "from sklearn.metrics import mean_squared_error"
   ]
  },
  {
   "cell_type": "markdown",
   "metadata": {},
   "source": [
    "### 1. Combine leak and prediction"
   ]
  },
  {
   "cell_type": "code",
   "execution_count": 2,
   "metadata": {},
   "outputs": [],
   "source": [
    "# Read test data and test leak\n",
    "test_leak = pd.read_csv('./leak_prediction_using_all_leaks.csv')\n",
    "test = pd.read_csv('./test.csv')"
   ]
  },
  {
   "cell_type": "code",
   "execution_count": null,
   "metadata": {},
   "outputs": [],
   "source": [
    "# Read predictions by machine learning models\n",
    "test_prediction = pd.read_csv('./xgb+lgb.csv')"
   ]
  },
  {
   "cell_type": "code",
   "execution_count": null,
   "metadata": {},
   "outputs": [],
   "source": [
    "# Combine leak and prediction\n",
    "result = test_prediction\n",
    "result.loc[test_leak['compiled_leak'].notna(),'target'] = test_leak.loc[test_leak['compiled_leak'].notna(),'compiled_leak']\n",
    "result.to_csv('prediction_and_leak.csv',index=False)"
   ]
  },
  {
   "cell_type": "markdown",
   "metadata": {},
   "source": [
    "### 2. Remove leaked rows from train set"
   ]
  },
  {
   "cell_type": "markdown",
   "metadata": {},
   "source": [
    "leak rows may actually from the same or just few numbers of customers. I tried to build models again upon a new train set after leaked rows are removed."
   ]
  },
  {
   "cell_type": "code",
   "execution_count": null,
   "metadata": {},
   "outputs": [],
   "source": [
    "# Read train data and train leak\n",
    "train_leak = pd.read_csv('./leak/train_leak.csv')\n",
    "train_leak.head(10)\n",
    "train = pd.read_csv('./train.csv')"
   ]
  },
  {
   "cell_type": "code",
   "execution_count": null,
   "metadata": {},
   "outputs": [],
   "source": [
    "print('Accuracy of predictions by leak:',end=' ')\n",
    "print(sum(train_leak['compiled_leak'] == train['target'])/sum(train_leak['compiled_leak'].notna()))"
   ]
  },
  {
   "cell_type": "code",
   "execution_count": null,
   "metadata": {},
   "outputs": [],
   "source": [
    "train = train.loc[train_leak['compiled_leak'].isna()]"
   ]
  },
  {
   "cell_type": "code",
   "execution_count": 10,
   "metadata": {},
   "outputs": [],
   "source": [
    "train.to_csv('leak_removed_from_train.csv',index=False)"
   ]
  },
  {
   "cell_type": "markdown",
   "metadata": {},
   "source": [
    "### 3. Add leaked rows from test set to train set"
   ]
  },
  {
   "cell_type": "markdown",
   "metadata": {},
   "source": [
    "For leaked rows in test set, target values we get according to leak rules should be generally right. Therefore, I can try to move these rows into train set."
   ]
  },
  {
   "cell_type": "code",
   "execution_count": null,
   "metadata": {},
   "outputs": [],
   "source": [
    "test['target'] = test_leak['compiled_leak']\n",
    "item_leaked = test[test['target'].notna()]\n",
    "test_new = test[test['target'].isna()] # Leaked rows are removed from test set\n",
    "train_new = pd.concat([train,item_leaked]).reset_index(drop=True) # Leaked rows from test set are added to train set\n",
    "print('Shape of the new train set: {}*{}'.format(train_new.shape[0],train_new.shape[1]))\n",
    "print('Shape of the new test set: {}*{}'.format(test_new.shape[0],test_new.shape[1]))"
   ]
  },
  {
   "cell_type": "code",
   "execution_count": null,
   "metadata": {},
   "outputs": [],
   "source": [
    "train_new.to_csv('train_new.csv',index=False)\n",
    "test_new.to_csv('test_new.csv',index=False)"
   ]
  },
  {
   "cell_type": "code",
   "execution_count": 53,
   "metadata": {},
   "outputs": [],
   "source": [
    "# Generate compiled_leak for test again without setting the cutoff of best lag\n",
    "test_leak['compiled_leak'] = np.nan\n",
    "max_lag = 38\n",
    "\n",
    "for i in np.arange(max_lag):\n",
    "    c = test_leak['compiled_leak'].isna()\n",
    "    leak_target = 'leaked_target_'+str(i)\n",
    "    test_leak.loc[c,'compiled_leak'] = test_leak.loc[c,leak_target]"
   ]
  },
  {
   "cell_type": "markdown",
   "metadata": {},
   "source": [
    "### 4. Combine leak and prediction: Machine learning is used to predict reliability of leaked rows"
   ]
  },
  {
   "cell_type": "code",
   "execution_count": null,
   "metadata": {},
   "outputs": [],
   "source": [
    "# Combine leak and prediction when whether a leak is correct is predicted by some machine learning algorithm\n",
    "useful_test_leak = pd.read_csv('./useful_test_leak.csv',names=['correct_or_wrong']) # file useful_test_leak.csv contains reliability of each leaked row. 0 stands for not reliable. Otherwise 1\n",
    "test_prediction = pd.read_csv('./xgb+lgb.csv')\n",
    "test_prediction['change_needed'] = test_leak['compiled_leak'].apply(lambda x: 0 if np.isnan(x) else 1) # All leaked rows are marked by 1 first\n",
    "\n",
    "# Leaked rows that are predicted to be unreliable are changed to 0\n",
    "count = 0\n",
    "for ind,row in test_prediction.iterrows():\n",
    "    if row['change_needed'] == 1:\n",
    "        test_prediction.loc[ind,'change_needed'] = useful_test_leak.loc[count,'correct_or_wrong']\n",
    "        count += 1\n",
    "\n",
    "print('Number of leaked rows: {}'.format(count))\n",
    "print('Number of reliable leaked rows: {}'.format(sum(test_prediction['change_needed'] == 1)))\n",
    "test_prediction.loc[test_prediction['change_needed'] == 1,'target'] = test_leak.loc[test_prediction['change_needed'] == 1,'compiled_leak']\n",
    "test_prediction[['ID','target']].to_csv('only_use_reliable_leaks.csv',index=False)\n"
   ]
  }
 ],
 "metadata": {
  "kernelspec": {
   "display_name": "Python 3",
   "language": "python",
   "name": "python3"
  },
  "language_info": {
   "codemirror_mode": {
    "name": "ipython",
    "version": 3
   },
   "file_extension": ".py",
   "mimetype": "text/x-python",
   "name": "python",
   "nbconvert_exporter": "python",
   "pygments_lexer": "ipython3",
   "version": "3.6.4"
  }
 },
 "nbformat": 4,
 "nbformat_minor": 2
}
