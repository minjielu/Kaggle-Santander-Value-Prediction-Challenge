{
 "cells": [
  {
   "cell_type": "code",
   "execution_count": 2,
   "metadata": {},
   "outputs": [
    {
     "data": {
      "text/html": [
       "<script>requirejs.config({paths: { 'plotly': ['https://cdn.plot.ly/plotly-latest.min']},});if(!window.Plotly) {{require(['plotly'],function(plotly) {window.Plotly=plotly;});}}</script>"
      ],
      "text/vnd.plotly.v1+html": [
       "<script>requirejs.config({paths: { 'plotly': ['https://cdn.plot.ly/plotly-latest.min']},});if(!window.Plotly) {{require(['plotly'],function(plotly) {window.Plotly=plotly;});}}</script>"
      ]
     },
     "metadata": {},
     "output_type": "display_data"
    }
   ],
   "source": [
    "# Load libraries for analysis and visualization\n",
    "import pandas as pd # collection of functions for data processing and analysis modeled after R dataframes with SQL like features\n",
    "import numpy as np  # foundational package for scientific computing\n",
    "import re           # Regular expression operations\n",
    "import matplotlib.pyplot as plt # Collection of functions for scientific and publication-ready visualization\n",
    "import lightgbm as lgb\n",
    "%matplotlib inline\n",
    "\n",
    "import plotly.offline as py     # Open source library for composing, editing, and sharing interactive data visualization \n",
    "from matplotlib import pyplot\n",
    "py.init_notebook_mode(connected=True)\n",
    "import plotly.graph_objs as go\n",
    "import plotly.tools as tls\n",
    "from collections import Counter\n",
    "\n",
    "# Machine learning libraries\n",
    "import sys\n",
    "sys.path.append('/Users/minjielu/anaconda3/envs/python/lib/python3.5/site-packages')\n",
    "\n",
    "import xgboost as xgb  # Implementation of gradient boosted decision trees designed for speed and performance that is dominative competitive machine learning\n",
    "import seaborn as sns  # Visualization library based on matplotlib, provides interface for drawing attractive statistical graphics\n",
    "\n",
    "import sklearn         # Collection of machine learning algorithms\n",
    "from sklearn.decomposition import PCA\n",
    "from sklearn.linear_model import LogisticRegression\n",
    "from sklearn.svm import SVC, LinearSVC\n",
    "from sklearn.ensemble import (RandomForestClassifier, AdaBoostClassifier, \n",
    "                              GradientBoostingClassifier, ExtraTreesClassifier, VotingClassifier)\n",
    "from sklearn.model_selection import KFold\n",
    "from sklearn.neighbors import KNeighborsClassifier\n",
    "from sklearn.naive_bayes import GaussianNB\n",
    "from sklearn.linear_model import Perceptron\n",
    "from sklearn.linear_model import SGDClassifier\n",
    "from sklearn.tree import DecisionTreeClassifier\n",
    "from sklearn.model_selection import GridSearchCV, cross_val_score, StratifiedKFold, learning_curve\n",
    "from sklearn.preprocessing import StandardScaler, LabelEncoder\n",
    "from sklearn.model_selection import train_test_split\n",
    "from sklearn.metrics import accuracy_score,classification_report, precision_recall_curve, confusion_matrix\n",
    "\n",
    "import warnings\n",
    "warnings.filterwarnings('ignore')"
   ]
  },
  {
   "cell_type": "code",
   "execution_count": 3,
   "metadata": {},
   "outputs": [],
   "source": [
    "train = pd.read_csv('./train.csv')\n",
    "# test = pd.read_csv('./test.csv')\n",
    "test = []"
   ]
  },
  {
   "cell_type": "code",
   "execution_count": 4,
   "metadata": {},
   "outputs": [],
   "source": [
    "for column in train.columns:\n",
    "    if (column != 'ID') and (column != 'target'):\n",
    "        if train[train[column] != 0].shape[0] < 20:\n",
    "            continue\n",
    "        tmpdf = np.log1p(train.loc[train[column] != 0, [column,'target']])\n",
    "        cuts = np.ceil(tmpdf[column].max()-tmpdf[column].min())\n",
    "        _,bins = pd.cut(tmpdf[column],cuts,retbins=True)\n",
    "        target_std = []\n",
    "        for ind in np.arange(len(bins)-1):\n",
    "            target_std.append(tmpdf.loc[(tmpdf[column] >= bins[ind]) & (tmpdf[column] < bins[ind+1]),'target'].std())\n",
    "            #print(tmpdf.loc[(tmpdf[column] >= bins[ind]) & (tmpdf[column] < bins[ind+1]),'target'].std())\n",
    "            #print(tmpdf.loc[(tmpdf[column] >= bins[ind]) & (tmpdf[column] < bins[ind+1]),'target'].shape[0])\n",
    "        target_std.sort()\n",
    "        target_std = pd.Series(target_std,name='std')\n",
    "        target_std = target_std.dropna()\n",
    "        if target_std.shape[0] < 5:\n",
    "            continue\n",
    "        valve = target_std.iloc[4]\n",
    "        for ind in np.arange(len(bins)-1):\n",
    "            if tmpdf.loc[(tmpdf[column] >= bins[ind]) & (tmpdf[column] < bins[ind+1]),'target'].std() > valve:\n",
    "                train.loc[(np.log1p(train[column]) >= bins[ind]) & (np.log1p(train[column]) <= bins[ind+1]),column] = 0"
   ]
  },
  {
   "cell_type": "code",
   "execution_count": 36,
   "metadata": {},
   "outputs": [
    {
     "data": {
      "text/plain": [
       "<matplotlib.axes._subplots.AxesSubplot at 0x1a16853a90>"
      ]
     },
     "execution_count": 36,
     "metadata": {},
     "output_type": "execute_result"
    },
    {
     "data": {
      "image/png": "[encoded data removed]",
      "text/plain": [
       "<Figure size 432x288 with 1 Axes>"
      ]
     },
     "metadata": {},
     "output_type": "display_data"
    }
   ],
   "source": [
    "column = 'adf119b9a'\n",
    "sns.stripplot(x=np.log1p(train.loc[train[column] != 0,column]),y=np.log1p(train.loc[train[column] != 0,'target']))\n",
    "#plt.xticks(np.arange(min(np.log1p(train.loc[train['9fc776466'] != 0,'adf119b9a'])), max(np.log1p(train.loc[train['adf119b9a'] != 0,'adf119b9a']))+1, 1.0))"
   ]
  },
  {
   "cell_type": "code",
   "execution_count": 5,
   "metadata": {},
   "outputs": [],
   "source": [
    "#train_y = train['target']\n",
    "#train_x = train.loc[:,(train.columns !='ID') & (train.columns != 'target')].loc[:,((nonzero_corr['target'] > 0) | (nonzero_corr['target'] < 0)) & (nonzero_corr['nonzero_cnt'] > 200)]\n",
    "#test_x = test.loc[:,(test.columns != 'ID') & (test.columns != 'target')].loc[:,((nonzero_corr['target'] > 0) | (nonzero_corr['target'] < 0)) & (nonzero_corr['nonzero_cnt'] > 200)]\n",
    "#train_x = train.loc[:,((nonzero_corr['target'] > 0) | (nonzero_corr['target'] > )) & (nonzero_corr['nonzero_cnt'] > 200)]\n",
    "\n",
    "train_x = train.loc[:,(train.columns != 'ID') & (train.columns != 'target')]\n",
    "train_y = train['target']\n",
    "#train_x['target'] = train['target']\n",
    "#train_x['ID'] = train['ID']\n",
    "#train_y = train['target_n']\n",
    "#train_y = train_y.fillna(50)\n",
    "#train_y"
   ]
  },
  {
   "cell_type": "code",
   "execution_count": 10,
   "metadata": {},
   "outputs": [],
   "source": [
    "from sklearn.metrics import mean_squared_error\n",
    "def fit_predict(data, y, test):\n",
    "    # Create folds\n",
    "    folds = KFold(n_splits=5, shuffle=True, random_state=1)\n",
    "    # Init predictions\n",
    "    #sub_preds = np.zeros(test.shape[0])\n",
    "    oof_preds = np.zeros(data.shape[0])\n",
    "    # Convert to lightgbm Dataset\n",
    "    dtrain = lgb.Dataset(data=data, label=np.log1p(y), free_raw_data=False)\n",
    "    # Construct dataset so that we can use slice()\n",
    "    dtrain.construct()\n",
    "    lgb_params = {\n",
    "        'objective': 'regression',\n",
    "        'num_leaves': 58,\n",
    "        'subsample': 0.6143,\n",
    "        'colsample_bytree': 0.6453,\n",
    "        'min_split_gain': np.power(10, -2.5988),\n",
    "        'reg_alpha': np.power(10, -2.2887),\n",
    "        'reg_lambda': np.power(10, 1.7570),\n",
    "        'min_child_weight': np.power(10, -0.1477),\n",
    "        'verbose': -1,\n",
    "        'seed': 3,\n",
    "        'boosting_type': 'gbdt',\n",
    "        'max_depth': -1,\n",
    "        'learning_rate': 0.05,\n",
    "        'metric': 'l2',\n",
    "    }\n",
    "    # Run KFold\n",
    "    for trn_idx, val_idx in folds.split(data):\n",
    "        # Train lightgbm\n",
    "        clf = lgb.train(\n",
    "            params=lgb_params,\n",
    "            train_set=dtrain.subset(trn_idx),\n",
    "            valid_sets=dtrain.subset(val_idx),\n",
    "            num_boost_round=10000, \n",
    "            early_stopping_rounds=100,\n",
    "            verbose_eval=50\n",
    "        )\n",
    "        # Predict Out Of Fold and Test targets\n",
    "        # Using lgb.train, predict will automatically select the best round for prediction\n",
    "        oof_preds[val_idx] = clf.predict(dtrain.data.iloc[val_idx])\n",
    "        # sub_preds += clf.predict(test.loc[:,(test.columns != 'ID')]) / folds.n_splits\n",
    "        # print(sub_preds)\n",
    "        # Display current fold score\n",
    "        print(mean_squared_error(np.log1p(y.iloc[val_idx]), \n",
    "                                 oof_preds[val_idx]) ** .5)\n",
    "    # Display Full OOF score (square root of a sum is not the sum of square roots)\n",
    "    print('Full Out-Of-Fold score : %9.6f' \n",
    "          % (mean_squared_error(np.log1p(y), oof_preds) ** .5))\n",
    "\n",
    "    return oof_preds, sub_preds"
   ]
  },
  {
   "cell_type": "code",
   "execution_count": 11,
   "metadata": {
    "scrolled": true
   },
   "outputs": [
    {
     "name": "stdout",
     "output_type": "stream",
     "text": [
      "Training until validation scores don't improve for 100 rounds.\n",
      "[50]\tvalid_0's l2: 2.36323\n",
      "[100]\tvalid_0's l2: 2.26473\n",
      "[150]\tvalid_0's l2: 2.25849\n",
      "[200]\tvalid_0's l2: 2.27638\n",
      "Early stopping, best iteration is:\n",
      "[134]\tvalid_0's l2: 2.25235\n",
      "1.5007844974306779\n",
      "Training until validation scores don't improve for 100 rounds.\n",
      "[50]\tvalid_0's l2: 2.59612\n",
      "[100]\tvalid_0's l2: 2.49502\n",
      "[150]\tvalid_0's l2: 2.48443\n",
      "[200]\tvalid_0's l2: 2.5052\n",
      "Early stopping, best iteration is:\n",
      "[131]\tvalid_0's l2: 2.48153\n",
      "1.5752859453983028\n",
      "Training until validation scores don't improve for 100 rounds.\n",
      "[50]\tvalid_0's l2: 2.5642\n",
      "[100]\tvalid_0's l2: 2.43742\n",
      "[150]\tvalid_0's l2: 2.40755\n",
      "[200]\tvalid_0's l2: 2.39864\n",
      "[250]\tvalid_0's l2: 2.40324\n",
      "[300]\tvalid_0's l2: 2.41207\n",
      "Early stopping, best iteration is:\n",
      "[223]\tvalid_0's l2: 2.39671\n",
      "1.5481306966900223\n",
      "Training until validation scores don't improve for 100 rounds.\n",
      "[50]\tvalid_0's l2: 2.56694\n",
      "[100]\tvalid_0's l2: 2.44634\n",
      "[150]\tvalid_0's l2: 2.43616\n",
      "[200]\tvalid_0's l2: 2.44803\n",
      "Early stopping, best iteration is:\n",
      "[144]\tvalid_0's l2: 2.43213\n",
      "1.5595286432352407\n",
      "Training until validation scores don't improve for 100 rounds.\n",
      "[50]\tvalid_0's l2: 2.36092\n",
      "[100]\tvalid_0's l2: 2.29878\n",
      "[150]\tvalid_0's l2: 2.31166\n",
      "Early stopping, best iteration is:\n",
      "[94]\tvalid_0's l2: 2.29537\n",
      "1.5150482494800126\n",
      "Full Out-Of-Fold score :  1.540011\n"
     ]
    },
    {
     "ename": "NameError",
     "evalue": "name 'sub_preds' is not defined",
     "output_type": "error",
     "traceback": [
      "\u001b[0;31m---------------------------------------------------------------------------\u001b[0m",
      "\u001b[0;31mNameError\u001b[0m                                 Traceback (most recent call last)",
      "\u001b[0;32m<ipython-input-11-1060361dc040>\u001b[0m in \u001b[0;36m<module>\u001b[0;34m()\u001b[0m\n\u001b[1;32m      1\u001b[0m \u001b[0;31m#test_1 = test.loc[:,(test.columns != 'ID')]\u001b[0m\u001b[0;34m\u001b[0m\u001b[0;34m\u001b[0m\u001b[0m\n\u001b[0;32m----> 2\u001b[0;31m \u001b[0;34m[\u001b[0m\u001b[0moof_preds\u001b[0m\u001b[0;34m,\u001b[0m \u001b[0msubpreds\u001b[0m\u001b[0;34m]\u001b[0m \u001b[0;34m=\u001b[0m \u001b[0mfit_predict\u001b[0m\u001b[0;34m(\u001b[0m\u001b[0mtrain_x\u001b[0m\u001b[0;34m,\u001b[0m\u001b[0mtrain_y\u001b[0m\u001b[0;34m,\u001b[0m\u001b[0mtest\u001b[0m\u001b[0;34m)\u001b[0m\u001b[0;34m\u001b[0m\u001b[0m\n\u001b[0m",
      "\u001b[0;32m<ipython-input-10-25803d5d96bc>\u001b[0m in \u001b[0;36mfit_predict\u001b[0;34m(data, y, test)\u001b[0m\n\u001b[1;32m     49\u001b[0m           % (mean_squared_error(np.log1p(y), oof_preds) ** .5))\n\u001b[1;32m     50\u001b[0m \u001b[0;34m\u001b[0m\u001b[0m\n\u001b[0;32m---> 51\u001b[0;31m     \u001b[0;32mreturn\u001b[0m \u001b[0moof_preds\u001b[0m\u001b[0;34m,\u001b[0m \u001b[0msub_preds\u001b[0m\u001b[0;34m\u001b[0m\u001b[0m\n\u001b[0m",
      "\u001b[0;31mNameError\u001b[0m: name 'sub_preds' is not defined"
     ]
    }
   ],
   "source": [
    "#test_1 = test.loc[:,(test.columns != 'ID')]\n",
    "[oof_preds, subpreds] = fit_predict(train_x,train_y,test)"
   ]
  },
  {
   "cell_type": "code",
   "execution_count": null,
   "metadata": {},
   "outputs": [],
   "source": [
    "#customerid = test['ID']\n",
    "#result = pd.Series(gbm.predict(test_x),name='target')\n",
    "#result = pd.Series(np.expm1(subpreds),name='target')\n",
    "#result = pd.concat([customerid,result],axis=1)\n"
   ]
  },
  {
   "cell_type": "code",
   "execution_count": null,
   "metadata": {},
   "outputs": [],
   "source": [
    "#min_value = train_y.min()\n",
    "#result.loc[result['target'] < min_value,'target'] = min_value\n",
    "#result.to_csv('Santander_result_2.csv',index=False)"
   ]
  },
  {
   "cell_type": "code",
   "execution_count": null,
   "metadata": {},
   "outputs": [],
   "source": []
  }
 ],
 "metadata": {
  "kernelspec": {
   "display_name": "Python 3",
   "language": "python",
   "name": "python3"
  },
  "language_info": {
   "codemirror_mode": {
    "name": "ipython",
    "version": 3
   },
   "file_extension": ".py",
   "mimetype": "text/x-python",
   "name": "python",
   "nbconvert_exporter": "python",
   "pygments_lexer": "ipython3",
   "version": "3.6.4"
  }
 },
 "nbformat": 4,
 "nbformat_minor": 2
}
